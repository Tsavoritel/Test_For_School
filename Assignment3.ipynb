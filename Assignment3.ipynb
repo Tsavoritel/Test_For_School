{
 "cells": [
  {
   "cell_type": "markdown",
   "id": "34fa4eab-2a3c-42d6-af18-a02c718da414",
   "metadata": {},
   "source": [
    "# Assignment 3\n",
    "- ### Date: 15/9/25\n",
    "- ### Name: **Elise (John) Collins**"
   ]
  },
  {
   "cell_type": "markdown",
   "id": "45d99286-798b-46b7-8483-6d577e172935",
   "metadata": {},
   "source": [
    "### 1. Lambda Expression"
   ]
  },
  {
   "cell_type": "code",
   "execution_count": 2,
   "id": "90a01a88-55f9-4535-9f96-21acf587df42",
   "metadata": {},
   "outputs": [
    {
     "name": "stdout",
     "output_type": "stream",
     "text": [
      "30\n"
     ]
    }
   ],
   "source": [
    "# this defines the numbers and the function for the lambda function\n",
    "product = lambda num1, num2: num1*num2\n",
    "\n",
    "print(product(5,6)) # print an example to show that it works!"
   ]
  },
  {
   "cell_type": "markdown",
   "id": "42c3fed6-dafd-4281-88b1-fceb620be5e8",
   "metadata": {},
   "source": [
    "### 2. Circle Area Function"
   ]
  },
  {
   "cell_type": "code",
   "execution_count": 6,
   "id": "d700f5bd-56c1-48a8-bd4e-77b573715998",
   "metadata": {},
   "outputs": [
    {
     "name": "stdout",
     "output_type": "stream",
     "text": [
      "314.1592653589793\n"
     ]
    }
   ],
   "source": [
    "import math # we need this module for pi\n",
    "\n",
    "def CircleArea(area): # here we define the arguemnet area which we'll be using later\n",
    "    return math.pi*area**2 # ** is a shorter way of writing math.pow()\n",
    "    \n",
    "print(CircleArea(10)) # here!"
   ]
  },
  {
   "cell_type": "markdown",
   "id": "5b3d50a2-68bd-4305-8979-5d8cc6f11ba0",
   "metadata": {},
   "source": [
    "### 3. Simple Calculator"
   ]
  },
  {
   "cell_type": "code",
   "execution_count": 7,
   "id": "77b0922e-205f-4504-aa67-7d91b53f6d35",
   "metadata": {},
   "outputs": [
    {
     "name": "stdout",
     "output_type": "stream",
     "text": [
      "Welcome to the calculator, please select a function:\n"
     ]
    },
    {
     "data": {
      "text/plain": [
       "0.4"
      ]
     },
     "execution_count": 7,
     "metadata": {},
     "output_type": "execute_result"
    }
   ],
   "source": [
    "print(\"Welcome to the calculator, please select a function:\")\n",
    "\n",
    "#Define the calculator\n",
    "def calcStuff(num1, num2, op):\n",
    "    if op == \"a\":\n",
    "        return(num1 + num2)\n",
    "    elif op == \"s\":\n",
    "        return(num1 - num2)\n",
    "    elif op == \"m\":\n",
    "        return(num1 * num2)\n",
    "    elif op == \"d\":\n",
    "        return(num1 / num2)\n",
    "    else:\n",
    "        return(\"Sorry, please provide a valid input.\")\n",
    "\n",
    "#Run it!\n",
    "calcStuff(2, 5, \"d\")"
   ]
  },
  {
   "cell_type": "markdown",
   "id": "0544b014-9bd7-4d72-a6b9-17aa9cb9bdaa",
   "metadata": {},
   "source": [
    "### 4. Rectangle Class"
   ]
  },
  {
   "cell_type": "code",
   "execution_count": 65,
   "id": "574fbe8e-0bb9-4233-afa7-0df56eddd26f",
   "metadata": {},
   "outputs": [
    {
     "data": {
      "text/plain": [
       "50"
      ]
     },
     "execution_count": 65,
     "metadata": {},
     "output_type": "execute_result"
    }
   ],
   "source": [
    "class Rectangle:\n",
    "    def __init__(self, length, width):\n",
    "        self.length = length\n",
    "        self.width = width\n",
    "    def area(rectObj): # here, we are asking for the object of any rectangle we might make, instead of its variables...\n",
    "        return(rectObj.length * rectObj.width) # so now we know we're talking about the new object instead of the class directly.\n",
    "        \n",
    "r = Rectangle(5, 10) # here we create the object\n",
    "r.area() #and now run that object through the method"
   ]
  },
  {
   "cell_type": "markdown",
   "id": "24dc8215-c6e2-4ee3-a4d9-0736a179bdfd",
   "metadata": {},
   "source": [
    "### 5. Shape Classes and Subclasses"
   ]
  },
  {
   "cell_type": "code",
   "execution_count": 81,
   "id": "8ef9ebaf-de82-434e-a053-c33df1261d9b",
   "metadata": {},
   "outputs": [
    {
     "name": "stdout",
     "output_type": "stream",
     "text": [
      "The area is: 25\n",
      "This is a: square\n"
     ]
    }
   ],
   "source": [
    "class Shape: # define the parent class\n",
    "    def __init__(self, name, length):\n",
    "        self.name = name\n",
    "        self.length = length\n",
    "    def area(length, width):\n",
    "        return 0\n",
    "\n",
    "class Square(Shape): # define the subclass\n",
    "    def __init__(self, name, length):\n",
    "        super().__init__(name, length) # inherit parent class arguements\n",
    "    def area(obj):\n",
    "        return f\"The area is: {obj.length * obj.length}\"\n",
    "    def describe(obj):\n",
    "        return f\"This is a: {obj.name}\"\n",
    "        \n",
    "s = Square('square',5) # create the object\n",
    "print(s.area())\n",
    "print(s.describe())"
   ]
  },
  {
   "cell_type": "code",
   "execution_count": null,
   "id": "e53473b0-7866-4258-976a-9bad42db5ee2",
   "metadata": {},
   "outputs": [],
   "source": []
  }
 ],
 "metadata": {
  "kernelspec": {
   "display_name": "Python 3 (ipykernel)",
   "language": "python",
   "name": "python3"
  },
  "language_info": {
   "codemirror_mode": {
    "name": "ipython",
    "version": 3
   },
   "file_extension": ".py",
   "mimetype": "text/x-python",
   "name": "python",
   "nbconvert_exporter": "python",
   "pygments_lexer": "ipython3",
   "version": "3.13.3"
  }
 },
 "nbformat": 4,
 "nbformat_minor": 5
}
